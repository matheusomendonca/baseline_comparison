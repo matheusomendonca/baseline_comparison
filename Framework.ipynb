{
 "cells": [
  {
   "cell_type": "markdown",
   "metadata": {},
   "source": [
    "## A simple framework for comparing your model decision boundary to the true decision bundary when the underlying distribution is known "
   ]
  },
  {
   "cell_type": "code",
   "execution_count": 72,
   "metadata": {},
   "outputs": [],
   "source": [
    "import numpy as np\n",
    "from math import log\n",
    "import matplotlib.pyplot as plt\n",
    "from matplotlib.colors import ListedColormap\n",
    "from sklearn.neural_network import MLPClassifier\n",
    "import warnings"
   ]
  },
  {
   "cell_type": "markdown",
   "metadata": {},
   "source": [
    "A custom class `BaselineModel` can be created in order to represent the benchmark model and to create the dataset."
   ]
  },
  {
   "cell_type": "code",
   "execution_count": 73,
   "metadata": {},
   "outputs": [],
   "source": [
    "class BaselineModel:\n",
    "    \"\"\"Benchmark gaussian data set creator.\"\"\"\n",
    "\n",
    "    # class attributes\n",
    "    _cov_type = None\n",
    "\n",
    "    mu = []  # list with mean matrices\n",
    "    cov = []  # list with covariance matrices\n",
    "\n",
    "    def __init__(self, covariances_type=\"Equal\"):\n",
    "        \"\"\" Constructor.\n",
    "\n",
    "        Args:\n",
    "            covariances_type: covariances matrices type\n",
    "                              \"Equal\": same cov matrices\n",
    "                              \"Unequal\": different cov matrices\n",
    "        \"\"\"\n",
    "\n",
    "        self.cov_type = covariances_type\n",
    "\n",
    "        # generate parameters\n",
    "        self._generate_parameters()\n",
    "\n",
    "    def fit(self, X, y):\n",
    "        \"\"\"For uniformity purposes.\"\"\"\n",
    "        pass\n",
    "\n",
    "    def predict(self, X):\n",
    "        \"\"\"Discriminant function based on population parameters.\n",
    "\n",
    "        Args:\n",
    "            X: X matrix.\n",
    "\n",
    "        Returns:\n",
    "            g: discriminant function values (a.k.a. true y_pred)\n",
    "\n",
    "        \"\"\"\n",
    "\n",
    "        # inverse of covariance matrices\n",
    "        S1_inv = np.linalg.inv(self.cov[0])\n",
    "        S2_inv = np.linalg.inv(self.cov[1])\n",
    "\n",
    "        # determinant of covariance matrices\n",
    "        S1_det = np.linalg.det(self.cov[0])\n",
    "        S2_det = np.linalg.det(self.cov[1])\n",
    "\n",
    "        # parameters\n",
    "        w1 = np.dot(S1_inv, self.mu[0])\n",
    "        w2 = np.dot(S2_inv, self.mu[1])\n",
    "        W1 = -.5 * S1_inv\n",
    "        W2 = -.5 * S2_inv\n",
    "        w10 = -.5 * (np.dot(self.mu[0].T, np.dot(S1_inv, self.mu[0])) + log(S1_det))\n",
    "        w20 = -.5 * (np.dot(self.mu[1].T, np.dot(S2_inv, self.mu[1])) + log(S2_det))\n",
    "\n",
    "        # discriminant\n",
    "        m = X.shape[0]\n",
    "        g = np.zeros((m, 1))\n",
    "        for i in range(m):\n",
    "            xx = X[i, :].reshape(-1, 1)\n",
    "            g1 = np.dot(np.dot(xx.T, W1), xx) + np.dot(w1.T, xx) + w10\n",
    "            g2 = np.dot(np.dot(xx.T, W2), xx) + np.dot(w2.T, xx) + w20\n",
    "            g[i] = 1.0 * (g1 - g2 > 0)\n",
    "\n",
    "        return g\n",
    "\n",
    "    def sample_distribution(self, n=50):\n",
    "        \"\"\"Sample distribution.\n",
    "\n",
    "        Args:\n",
    "            n: number of samples on each class.\n",
    "\n",
    "        Returns:\n",
    "            X: X matrix\n",
    "            y: y matrix\n",
    "\n",
    "        \"\"\"\n",
    "\n",
    "        # seed\n",
    "        np.random.seed(25)\n",
    "\n",
    "        # sample\n",
    "        x1, y1 = np.random.multivariate_normal(self.mu[0].ravel(), self.cov[0], n).T\n",
    "        x2, y2 = np.random.multivariate_normal(self.mu[1].ravel(), self.cov[1], n).T\n",
    "\n",
    "        # data set\n",
    "        X = np.r_[np.c_[x1, y1], np.c_[x2, y2]]\n",
    "        y = np.r_[np.ones(x1.shape), np.zeros(x1.shape)].reshape(-1, 1)\n",
    "\n",
    "        return X, y\n",
    "\n",
    "    def _generate_parameters(self):\n",
    "        \"\"\"Generate population distribution parameters.\"\"\"\n",
    "\n",
    "        # mean matrices\n",
    "        mu1 = np.array([1, 1]).reshape(-1, 1)\n",
    "        mu2 = np.array([3, 3]).reshape(-1, 1)\n",
    "        self.mu = [mu1, mu2]\n",
    "\n",
    "        # generate cov to cov_type\n",
    "        if self.cov_type == \"Equal\":\n",
    "            cov1 = np.eye(2)\n",
    "            cov2 = np.eye(2)\n",
    "        else:\n",
    "            s1 = .5 + .5*np.random.rand()\n",
    "            s2 = 1.2*s1\n",
    "            cov1 = s1*np.eye(2)\n",
    "            cov2 = s2*np.eye(2)\n",
    "\n",
    "        # cov matrices\n",
    "        self.cov = [cov1, cov2]\n",
    "\n",
    "    # getters\n",
    "    @property\n",
    "    def cov_type(self):\n",
    "        return self._cov_type\n",
    "\n",
    "    # setters\n",
    "    @cov_type.setter\n",
    "    def cov_type(self, cov_type):\n",
    "        if cov_type == \"Equal\" or cov_type == \"Unequal\":\n",
    "            self._cov_type = cov_type\n",
    "        else:\n",
    "            raise ValueError(\"covariances_type must be Equal or Unequal.\")\n"
   ]
  },
  {
   "cell_type": "markdown",
   "metadata": {},
   "source": [
    "A custom function for plotting the decision boundary:"
   ]
  },
  {
   "cell_type": "code",
   "execution_count": 74,
   "metadata": {},
   "outputs": [],
   "source": [
    "def plot_separation(X, y, f1, f2=None, step=0.01):\n",
    "    \"\"\"Plot decision boundary.\n",
    "\n",
    "    Args:\n",
    "        X: X matrix\n",
    "        y: y matrix\n",
    "        f1: prediction function of model 1\n",
    "        f2: prediction function of model 2\n",
    "        step: step used to generate grid.\n",
    "\n",
    "    \"\"\"\n",
    "\n",
    "    # supress warning\n",
    "    warnings.simplefilter(\"ignore\")\n",
    "\n",
    "    # grid\n",
    "    X1, X2 = np.meshgrid(np.arange(start=X[:, 0].min() - .1,\n",
    "                                   stop=X[:, 0].max() + .1, step=step),\n",
    "                         np.arange(start=X[:, 1].min() - .1,\n",
    "                                   stop=X[:, 1].max() + .1, step=step))\n",
    "    grid = np.c_[X1.flatten(), X2.flatten()]\n",
    "    fig, ax = plt.subplots()\n",
    "    g1 = f1(grid).reshape(X1.shape)\n",
    "    ax.contour(X1, X2, g1, 0., colors='b', linewidths=1)\n",
    "    if f2 is not None:\n",
    "        g2 = f2(grid).reshape(X1.shape)\n",
    "        ax.contour(X1, X2, g2, 0., colors='k', linestyles='dashed', linewidths=1)\n",
    "    ax.set_xlim(X1.min(), X1.max())\n",
    "    ax.set_ylim(X2.min(), X2.max())\n",
    "    for i, j in enumerate(np.unique(y)):\n",
    "        ii, _ = np.where(y == j)\n",
    "        plt.plot(X[ii, 0], X[ii, 1], marker='o', linestyle=\"None\", markersize=4,\n",
    "                 c=ListedColormap(('red', 'black'))(i))\n",
    "    plt.xlabel(r'$x_1$')\n",
    "    plt.ylabel(r'$x_2$')\n",
    "    plt.show()"
   ]
  },
  {
   "cell_type": "markdown",
   "metadata": {},
   "source": [
    "### Training a MLP and comparing the decision boundaries\n",
    "\n",
    "#### Equal covariances: linear bondary (dashed line)"
   ]
  },
  {
   "cell_type": "code",
   "execution_count": 75,
   "metadata": {},
   "outputs": [
    {
     "data": {
      "image/png": "[encoded data removed]",
      "text/plain": [
       "<matplotlib.figure.Figure at 0x7f9cd9f0f748>"
      ]
     },
     "metadata": {},
     "output_type": "display_data"
    }
   ],
   "source": [
    "# hyper-parameters\n",
    "layers = (20,)\n",
    "solver = \"adam\"\n",
    "alpha = 0\n",
    "max_iter = 500\n",
    "\n",
    "# benchmark model\n",
    "baseline_model = BaselineModel(covariances_type=\"Equal\")\n",
    "X, y = baseline_model.sample_distribution(n=150)\n",
    "\n",
    "# instantiate mlp\n",
    "mlp = MLPClassifier(hidden_layer_sizes=layers, alpha=alpha, solver=solver, max_iter=max_iter)\n",
    "\n",
    "# fit\n",
    "mlp.fit(X, y.ravel())\n",
    "\n",
    "# plot separation\n",
    "plot_separation(X, y, mlp.predict, baseline_model.predict)"
   ]
  },
  {
   "cell_type": "markdown",
   "metadata": {},
   "source": [
    "#### Unequal covariances: quadratic boundary (dashed line)"
   ]
  },
  {
   "cell_type": "code",
   "execution_count": 76,
   "metadata": {},
   "outputs": [
    {
     "data": {
      "image/png": "[encoded data removed]",
      "text/plain": [
       "<matplotlib.figure.Figure at 0x7f9cda3201d0>"
      ]
     },
     "metadata": {},
     "output_type": "display_data"
    }
   ],
   "source": [
    "# hyper-parameters\n",
    "layers = (20,)\n",
    "solver = \"adam\"\n",
    "alpha = 0\n",
    "max_iter = 500\n",
    "\n",
    "# benchmark model\n",
    "baseline_model = BaselineModel(covariances_type=\"Unequal\")\n",
    "X, y = baseline_model.sample_distribution(n=150)\n",
    "\n",
    "# instantiate mlp\n",
    "mlp = MLPClassifier(hidden_layer_sizes=layers, alpha=alpha, solver=solver, max_iter=max_iter)\n",
    "\n",
    "# fit\n",
    "mlp.fit(X, y.ravel())\n",
    "\n",
    "# plot separation\n",
    "plot_separation(X, y, mlp.predict, baseline_model.predict)"
   ]
  }
 ],
 "metadata": {
  "kernelspec": {
   "display_name": "Python 3",
   "language": "python",
   "name": "python3"
  },
  "language_info": {
   "codemirror_mode": {
    "name": "ipython",
    "version": 3
   },
   "file_extension": ".py",
   "mimetype": "text/x-python",
   "name": "python",
   "nbconvert_exporter": "python",
   "pygments_lexer": "ipython3",
   "version": "3.6.4"
  }
 },
 "nbformat": 4,
 "nbformat_minor": 2
}
