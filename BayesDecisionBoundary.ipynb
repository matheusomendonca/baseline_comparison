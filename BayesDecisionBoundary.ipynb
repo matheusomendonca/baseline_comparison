{
 "cells": [
  {
   "cell_type": "markdown",
   "metadata": {},
   "source": [
    "# Pattern classifiers\n",
    "## General structure of a Bayesian pattern classifier"
   ]
  },
  {
   "cell_type": "markdown",
   "metadata": {},
   "source": [
    "A pattern classifier can be described as a set of discriminant functions $g_i(x), i = 1,...,c$, where $c$ is the number of patterns (i.e. classes). The classifier maps a sample $x$ to the class $w_i$ if\n",
    "\n",
    "\\begin{equation}\n",
    "g_i(x) > g_j(x), \\forall j \\neq i.\n",
    "\\end{equation}\n",
    "\n",
    "The following image depicts the classification process"
   ]
  },
  {
   "cell_type": "markdown",
   "metadata": {},
   "source": [
    "![Classificador padrão](images/network.png \"Classificador padrão\")"
   ]
  },
  {
   "cell_type": "markdown",
   "metadata": {},
   "source": [
    "Besides, if $g_i(x)$ is replaced by $f(g_i(x))$, where $f(\\cdot)$ is a monotonically increasing function, the classification result does not change."
   ]
  },
  {
   "cell_type": "markdown",
   "metadata": {},
   "source": [
    "For the pattern classification problem, the following discriminant function is commonly used\n",
    "\n",
    "\\begin{equation} \n",
    "g_i(x) = P(w_i|x) = \\frac{p(x|w_i)P(w_i)}{p(x)}.\n",
    "\\end{equation}\n",
    "\n",
    "$p(x|w_i)$ represents the probability density function of feature $x$ for a given class $w_i$ and $P(w_i)$ is the prior probability of class $w_i$ (the term $p(x)$ will disappear when comparing two functions, don't worry)."
   ]
  },
  {
   "cell_type": "markdown",
   "metadata": {},
   "source": [
    "For two classes, a unique discriminant function can be used:\n",
    "\n",
    "\\begin{equation}\n",
    "g(x) = g_1(x) - g_2(x),\n",
    "\\end{equation}\n",
    "and the following decision rule is applied: $w_1$ if $g(x)>0$; $w_2$ otherwise.\n",
    "\n",
    "With some mathematical manipulation, the discriminant function can then be written as\n",
    "\n",
    "\\begin{align} \n",
    "g(x) &= P(w_1|x) - P(w_2|x),\\\\\n",
    "g(x) &= \\ln{\\frac{p(x|w_1)}{p(x|w_2)}} + \\ln{\\frac{P(w_1)}{P(w_2)}}. \n",
    "\\end{align}"
   ]
  },
  {
   "cell_type": "markdown",
   "metadata": {},
   "source": [
    "## Discriminant function for Normal distributions"
   ]
  },
  {
   "cell_type": "markdown",
   "metadata": {},
   "source": [
    "A d-dimensional Normal distribution can be written as\n",
    "\n",
    "\\begin{equation}\n",
    "h(x) = \\frac{1}{(2\\pi)^{d/2}|\\Sigma|^{1/2}} \\exp{\\left[-\\frac{1}{2}(x-\\mu)^T\\Sigma^{-1}(x-\\mu)\\right]},\n",
    "\\end{equation}\n",
    "where $\\mu$ is a d-dimensional vector with the mean, $\\Sigma$ is a (d x d)-matrix of covariances, $|\\Sigma|$ is the determinant e $\\Sigma^{-1}$ is the invers.\n",
    "\n",
    "Let $p(x|w_i) \\sim \\mathcal{N}(\\mu_i,\\Sigma_i)$, the discriminant function $g_i(x)$ can then be written as\n",
    "\n",
    "\\begin{equation}\n",
    "g_i(x) = -\\frac{1}{2}(x-\\mu_i)^T\\Sigma_i^{-1}(x-\\mu_i)-\\frac{d}{2}\\ln{2\\pi}-\\frac{1}{2}\\ln{|\\Sigma_i|} + \\ln{P(w_i)}.\n",
    "\\end{equation}"
   ]
  },
  {
   "cell_type": "markdown",
   "metadata": {},
   "source": [
    "## Examples"
   ]
  },
  {
   "cell_type": "markdown",
   "metadata": {},
   "source": [
    "Assuming a Normal distribution, the following examples show how the decision boundary of a pattern classifier changes with the covariances matrices $\\Sigma_i$, assuming balanced classes, that is $\\ln{P(w_1)} = \\ln{P(w_2)}$. The parameters for the examples are:\n",
    "\n",
    "\\begin{equation} \n",
    "\\mu_1 = \n",
    "\\begin{bmatrix}\n",
    "1 \\\\\n",
    "1\n",
    "\\end{bmatrix}\n",
    "\\end{equation}\n",
    "\n",
    "e\n",
    "\n",
    "\\begin{equation} \n",
    "\\mu_2 = \n",
    "\\begin{bmatrix}\n",
    "3 \\\\\n",
    "3\n",
    "\\end{bmatrix}.\n",
    "\\end{equation}"
   ]
  },
  {
   "cell_type": "markdown",
   "metadata": {},
   "source": [
    "Setting-up imports and utility functions:"
   ]
  },
  {
   "cell_type": "code",
   "execution_count": 28,
   "metadata": {},
   "outputs": [],
   "source": [
    "import numpy as np\n",
    "import matplotlib.pyplot as plt\n",
    "from matplotlib.colors import ListedColormap\n",
    "from math import log\n",
    "import matplotlib as mpl\n",
    "import warnings"
   ]
  },
  {
   "cell_type": "code",
   "execution_count": 29,
   "metadata": {},
   "outputs": [],
   "source": [
    "# parameters\n",
    "mu1 = np.array([1,1]).reshape(-1,1)\n",
    "mu2 = np.array([3,3]).reshape(-1,1)"
   ]
  },
  {
   "cell_type": "code",
   "execution_count": 30,
   "metadata": {},
   "outputs": [],
   "source": [
    "def sample_distribution(mu1,S1,mu2,S2,n=20):\n",
    "    \"\"\"Sample two normal distributions.\n",
    "\n",
    "        Args:\n",
    "            mu1: mean of distributuin 1.\n",
    "            S1 : covariance of distributuin 1.\n",
    "            mu2: mean of distributuin 2.\n",
    "            S2 : covariance of distributuin 2.\n",
    "            n  : number of samples of each class.\n",
    "\n",
    "        Returns:\n",
    "            X: X matrix of features.\n",
    "            y: y matrix of classes.\n",
    "\n",
    "    \"\"\"\n",
    "    # sample\n",
    "    np.random.seed(50)\n",
    "    x1, y1 = np.random.multivariate_normal(mu1.ravel(), S1, n).T\n",
    "    x2, y2 = np.random.multivariate_normal(mu2.ravel(), S2, n).T\n",
    "    \n",
    "    # class\n",
    "    X= np.r_[np.c_[x1,y1], np.c_[x2,y2]]\n",
    "    Y = np.r_[np.ones(x1.shape),np.zeros(x1.shape)] \n",
    "    \n",
    "    return X,Y"
   ]
  },
  {
   "cell_type": "code",
   "execution_count": 31,
   "metadata": {},
   "outputs": [],
   "source": [
    "# Visualizing\n",
    "def plot_separation(X,Y,g):\n",
    "    \"\"\"Plots decision boundary.\"\"\"\n",
    "    X1, X2 = np.meshgrid(np.arange(start = X[:, 0].min()-.1, \n",
    "                                   stop = X[:, 0].max()+.1,step=0.01),\n",
    "                         np.arange(start = X[:, 1].min()-.1, \n",
    "                                   stop = X[:, 1].max()+.1,step=0.01))\n",
    "    y = g(np.array([X1.ravel(), X2.ravel()])).reshape(X1.shape)\n",
    "    plt.contourf(X1, X2, y, alpha = 0.5, \n",
    "                 cmap = ListedColormap(('red', 'green')))\n",
    "    plt.xlim(X1.min(), X1.max())\n",
    "    plt.ylim(X2.min(), X2.max())\n",
    "    for i, j in enumerate(np.unique(Y)):\n",
    "        plt.scatter(X[Y == j, 0], X[Y == j, 1],\n",
    "                    c = ListedColormap(('red', 'green'))(i),label=j)\n",
    "    plt.xlabel(r'$x_1$')\n",
    "    plt.ylabel(r'$x_2$')\n",
    "    plt.legend()\n",
    "    plt.show()"
   ]
  },
  {
   "cell_type": "markdown",
   "metadata": {},
   "source": [
    "### Case 1:  $\\Sigma_i = \\Sigma$\n",
    "\n",
    "\n"
   ]
  },
  {
   "cell_type": "markdown",
   "metadata": {},
   "source": [
    "The most simple case occurs when the classes' distributions are independent and with same covariance. For this case, the discriminant function is linear and given by\n",
    "\n",
    "\\begin{equation}\n",
    "g_i(x) = w_i^Tx + w_{i0},\n",
    "\\end{equation}\n",
    "onde \n",
    "\\begin{equation}\n",
    "w_i = \\Sigma^{-1}\\mu_i\n",
    "\\end{equation}\n",
    "e\n",
    "\\begin{equation}\n",
    "w_{i0} = \\frac{-1}{2}\\mu_i^T\\Sigma^{-1}\\mu_i + \\ln{P(w_i)}.\n",
    "\\end{equation}"
   ]
  },
  {
   "cell_type": "markdown",
   "metadata": {},
   "source": [
    "Using:\n",
    "\n",
    "\\begin{equation} \n",
    "\\Sigma_i = \n",
    "\\begin{bmatrix}\n",
    "1 & 0\\\\\n",
    "0 & 1.5\n",
    "\\end{bmatrix}.\n",
    "\\end{equation}"
   ]
  },
  {
   "cell_type": "code",
   "execution_count": 32,
   "metadata": {},
   "outputs": [],
   "source": [
    "# covariances matrices\n",
    "S1 = np.array([[1,0],[0,1.5]])\n",
    "S2 = np.array([[1,0],[0,1.5]])\n",
    "\n",
    "# discriminant functions\n",
    "S1_inv = np.linalg.inv(S1)\n",
    "S2_inv = np.linalg.inv(S2)\n",
    "w1 = np.dot(S1_inv,mu1)\n",
    "w2 = np.dot(S2_inv,mu2)\n",
    "\n",
    "w10 = -.5*np.dot(mu1.T, np.dot(S1_inv,mu1))\n",
    "w20 = -.5*np.dot(mu2.T, np.dot(S2_inv,mu2))"
   ]
  },
  {
   "cell_type": "code",
   "execution_count": 33,
   "metadata": {},
   "outputs": [],
   "source": [
    "# discriminant function for case 1\n",
    "def g(x):\n",
    "    \n",
    "    g1 = np.dot(w1.T,x) + w10\n",
    "    g2 = np.dot(w2.T,x) + w20\n",
    "    \n",
    "    g = 1.0 * ((g1 - g2 > 0))\n",
    "    \n",
    "    return g"
   ]
  },
  {
   "cell_type": "code",
   "execution_count": 34,
   "metadata": {},
   "outputs": [],
   "source": [
    "# covariances matrices\n",
    "S1 = np.array([[1,0],[0,1.5]])\n",
    "S2 = np.array([[1,0],[0,1.5]])\n",
    "\n",
    "# discriminant functions\n",
    "S1_inv = np.linalg.inv(S1)\n",
    "S2_inv = np.linalg.inv(S2)\n",
    "w1 = np.dot(S1_inv,mu1)\n",
    "w2 = np.dot(S2_inv,mu2)\n",
    "\n",
    "w10 = -.5*np.dot(mu1.T, np.dot(S1_inv,mu1))\n",
    "w20 = -.5*np.dot(mu2.T, np.dot(S2_inv,mu2))"
   ]
  },
  {
   "cell_type": "code",
   "execution_count": 35,
   "metadata": {},
   "outputs": [
    {
     "data": {
      "image/png": "[encoded data removed]",
      "text/plain": [
       "<matplotlib.figure.Figure at 0x7ff5b3930b00>"
      ]
     },
     "metadata": {},
     "output_type": "display_data"
    }
   ],
   "source": [
    "# case 1 plot\n",
    "X,Y = sample_distribution(mu1,S1,mu2,S2,30)\n",
    "plot_separation(X,Y,g)"
   ]
  },
  {
   "cell_type": "markdown",
   "metadata": {},
   "source": [
    "### Caso 2: $\\Sigma_i =$ arbritary"
   ]
  },
  {
   "cell_type": "markdown",
   "metadata": {},
   "source": [
    "The general case occurs when $\\Sigma_i$ are arbritary. For this case, the discriminant function is quadratic and given by\n",
    "\n",
    "\\begin{equation}\n",
    "g_i(x) = x_i^TW_ix_i + w_i^Tx + w_{i0},\n",
    "\\end{equation}\n",
    "onde \n",
    "\\begin{align}\n",
    "W_i &= -\\frac{1}{2}\\Sigma_i^{-1},\\\\\n",
    "w_i &= \\Sigma^{-1}\\mu_i\n",
    "\\end{align}\n",
    "e\n",
    "\\begin{equation}\n",
    "w_{i0} = \\frac{-1}{2}\\mu_i^T\\Sigma^{-1}\\mu_i - \\frac{1}{2}\\ln{|\\Sigma_i|}+ \\ln{P(w_i)}.\n",
    "\\end{equation}"
   ]
  },
  {
   "cell_type": "markdown",
   "metadata": {},
   "source": [
    "For this case, an example is formulated using\n",
    "\n",
    "\\begin{equation} \n",
    "\\Sigma_1 = \n",
    "\\begin{bmatrix}\n",
    "0.5 & 0\\\\\n",
    "0 & 2\n",
    "\\end{bmatrix},\n",
    "\\end{equation}\n",
    "\n",
    "\\begin{equation} \n",
    "\\Sigma_2 = \n",
    "\\begin{bmatrix}\n",
    "2.0 & 0\\\\\n",
    "0 & 2.0\n",
    "\\end{bmatrix}.\n",
    "\\end{equation}"
   ]
  },
  {
   "cell_type": "code",
   "execution_count": 36,
   "metadata": {},
   "outputs": [],
   "source": [
    "# covariances matrices\n",
    "S1 = np.array([[.5,0],[0,2]])\n",
    "S2 = np.array([[2.0,0],[0,2.0]])\n",
    "\n",
    "# discriminant functions\n",
    "S1_inv = np.linalg.inv(S1)\n",
    "S1_det = np.linalg.det(S1)\n",
    "S2_inv = np.linalg.inv(S2)\n",
    "S2_det = np.linalg.det(S2)\n",
    "w1 = np.dot(S1_inv,mu1)\n",
    "w2 = np.dot(S2_inv,mu2)\n",
    "W1 = -.5*S1_inv\n",
    "W2 = -.5*S2_inv\n",
    "\n",
    "w10 = -.5 * (np.dot(mu1.T, np.dot(S1_inv,mu1)) + log(S1_det)) \n",
    "w20 = -.5 * (np.dot(mu2.T, np.dot(S2_inv,mu2)) + log(S2_det))"
   ]
  },
  {
   "cell_type": "code",
   "execution_count": 37,
   "metadata": {},
   "outputs": [],
   "source": [
    "# discriminant function for general case\n",
    "def g(x):\n",
    "    \n",
    "    g = np.zeros((x.shape[1],))\n",
    "    for i in range(x.shape[1]):\n",
    "        xx = x[:,i].reshape(-1,1)\n",
    "        g1 = np.dot(np.dot(xx.T,W1),xx) + np.dot(w1.T,xx) + w10\n",
    "        g2 = np.dot(np.dot(xx.T,W2),xx) + np.dot(w2.T,xx) + w20\n",
    "\n",
    "        g[i] = 1.0 * ((g1 - g2 > 0))\n",
    "    \n",
    "    return g"
   ]
  },
  {
   "cell_type": "code",
   "execution_count": 38,
   "metadata": {},
   "outputs": [
    {
     "data": {
      "image/png": "[encoded data removed]",
      "text/plain": [
       "<matplotlib.figure.Figure at 0x7ff5b38dfe10>"
      ]
     },
     "metadata": {},
     "output_type": "display_data"
    }
   ],
   "source": [
    "# case 2 plot \n",
    "X,Y = sample_distribution(mu1,S1,mu2,S2,10)\n",
    "plot_separation(X,Y,g)"
   ]
  },
  {
   "cell_type": "code",
   "execution_count": null,
   "metadata": {},
   "outputs": [],
   "source": []
  }
 ],
 "metadata": {
  "kernelspec": {
   "display_name": "Python 3",
   "language": "python",
   "name": "python3"
  },
  "language_info": {
   "codemirror_mode": {
    "name": "ipython",
    "version": 3
   },
   "file_extension": ".py",
   "mimetype": "text/x-python",
   "name": "python",
   "nbconvert_exporter": "python",
   "pygments_lexer": "ipython3",
   "version": "3.6.4"
  }
 },
 "nbformat": 4,
 "nbformat_minor": 2
}
